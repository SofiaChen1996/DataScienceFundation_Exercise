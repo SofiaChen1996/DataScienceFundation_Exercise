{
 "cells": [
  {
   "cell_type": "markdown",
   "id": "5a2eba09",
   "metadata": {},
   "source": [
    "# import the necessary package "
   ]
  },
  {
   "cell_type": "code",
   "execution_count": 1,
   "id": "b44dd33f",
   "metadata": {},
   "outputs": [],
   "source": [
    "import random \n",
    "import numpy as np"
   ]
  },
  {
   "cell_type": "markdown",
   "id": "2f4ce2c0",
   "metadata": {},
   "source": [
    "## Input and massage transformation \n",
    "\n",
    "Input the checking massage, in this program although people to check the transportation of (1)4-digit binary code bits"
   ]
  },
  {
   "cell_type": "code",
   "execution_count": 2,
   "id": "35b3da8f",
   "metadata": {},
   "outputs": [
    {
     "name": "stdout",
     "output_type": "stream",
     "text": [
      "Please input a 4 digit binary code:1001\n"
     ]
    }
   ],
   "source": [
    "#define the code bits that we want to check    \n",
    "code_bit=input('Please input a 4 digit binary code:')\n",
    "#define the vector generator function\n",
    "def vector_gen(code_bit):\n",
    "    #check whether the input is a 4-digit code\n",
    "    if len(code_bit) != 4:\n",
    "        raise ValueError('Invaild input:please input a 4-digit code.')\n",
    "    #check whether code bits are binary \n",
    "    elif (code_bit.count('0')+code_bit.count('1')) != 4:\n",
    "        raise ValueError('Invaild input: please input a binary code.')\n",
    "    #change the format of input into vector\n",
    "    vector_c=np.array([int(i) for i in code_bit])\n",
    "    print('The input code bits are:', vector_c)\n",
    "    return  vector_c"
   ]
  },
  {
   "cell_type": "code",
   "execution_count": 3,
   "id": "b2b46847",
   "metadata": {},
   "outputs": [
    {
     "name": "stdout",
     "output_type": "stream",
     "text": [
      "The input code bits are: [1 0 0 1]\n"
     ]
    }
   ],
   "source": [
    "vector_c=vector_gen(code_bit)"
   ]
  },
  {
   "cell_type": "markdown",
   "id": "f070d9f5",
   "metadata": {},
   "source": [
    "# Encode\n",
    "Define the generator massage which can use to generate the hamming code"
   ]
  },
  {
   "cell_type": "code",
   "execution_count": 4,
   "id": "6072e81b",
   "metadata": {},
   "outputs": [],
   "source": [
    "#define the encode function\n",
    "def encode(vector_c):\n",
    "    #use the numpy array to define the Genetrator matrix\n",
    "    g_matrix=np.array ([[1,1,1,0,0,0,0],[1,0,0,1,1,0,0],[0,1,0,1,0,1,0],[1,1,0,1,0,0,1]])\n",
    "    #print('the genetor matrix is',g_matrix)\n",
    "    #the vector mutiplt the genetrator matrix will be the 7-digit hamming code \n",
    "    hamming=vector_c.dot(g_matrix)\n",
    "    #print ('the vector_matrix product is', hamming)\n",
    "    #define the overall parity bit \n",
    "    ov_par=0\n",
    "    for i in hamming:\n",
    "        ov_par=ov_par+i\n",
    "    hamming=np.insert(hamming,0,ov_par)\n",
    "    # transform the result into mod 2 expression\n",
    "    hamming_c=np.array([i%2 for i in hamming])\n",
    "    print('the hamming code is', hamming_c[1:])\n",
    "    print('the parity bits are', hamming_c[[1,2,4]])\n",
    "    print('the overall parity bit is', hamming_c[0])\n",
    "    #return the hamming code we get \n",
    "    return hamming_c"
   ]
  },
  {
   "cell_type": "code",
   "execution_count": 5,
   "id": "d660823a",
   "metadata": {},
   "outputs": [
    {
     "name": "stdout",
     "output_type": "stream",
     "text": [
      "the hamming code is [0 0 1 1 0 0 1]\n",
      "the parity bits are [0 0 1]\n",
      "the overall parity bit is 1\n"
     ]
    }
   ],
   "source": [
    "hamming_c=encode(vector_c)"
   ]
  },
  {
   "cell_type": "markdown",
   "id": "e8a6004f",
   "metadata": {},
   "source": [
    "# Error Generator \n",
    "To test whether the parity check can find the error hear we define a error generator function \n",
    "In this program we have 2 genetor (1) the bit_flip function which can choose the bit you want to change, and (2) ran_bit_flip function which can randomly change a bit in the hammimg code\n",
    "ps. only need to choose one when do the test, or it might generator more than 1 error, affecting the function of the hamming code program"
   ]
  },
  {
   "cell_type": "markdown",
   "id": "12211198",
   "metadata": {},
   "source": [
    "(1)changing bit function"
   ]
  },
  {
   "cell_type": "code",
   "execution_count": 6,
   "id": "02d605cc",
   "metadata": {},
   "outputs": [],
   "source": [
    "#define the function which can change the nth bit in hamming code\n",
    "def bit_flip(hamming_c,*bits):\n",
    "    #check whether the input is bigger than 7 \n",
    "    for bit in bits:\n",
    "        if int(bit) > 7 or int(bit)<1:\n",
    "            raise ValueError ('invaild input: please enter an integer between 1 and 7')\n",
    "             \n",
    "        #change the bit from 1 to 0 or from 0 to 1\n",
    "        else:\n",
    "            hamming_c[bit]=1-hamming_c[bit]\n",
    "        \n",
    "    print('the position of flipped bits:', bits, ';', 'Error code:', hamming_c[1:])\n",
    "    #return the error code\n",
    "    return hamming_c"
   ]
  },
  {
   "cell_type": "code",
   "execution_count": 7,
   "id": "9cd94d76",
   "metadata": {
    "scrolled": true
   },
   "outputs": [
    {
     "name": "stdout",
     "output_type": "stream",
     "text": [
      "the position of flipped bits: (6, 7) ; Error code: [0 0 1 1 0 1 0]\n"
     ]
    }
   ],
   "source": [
    "#here suppose to change 2 bits but only change one \n",
    "hamming_c=bit_flip(hamming_c,6,7)"
   ]
  },
  {
   "cell_type": "markdown",
   "id": "18109eb9",
   "metadata": {},
   "source": [
    "(2) random error generator"
   ]
  },
  {
   "cell_type": "code",
   "execution_count": 8,
   "id": "ac880773",
   "metadata": {},
   "outputs": [],
   "source": [
    "#define the ran_bit_flip function\n",
    "def transportation(hamming_c):\n",
    "    #generate an random error in hamming code\n",
    "    flipped_bit=random.randint(1,14)\n",
    "    #for the number bigger than 7, we assume the transportatiom is successful\n",
    "    if flipped_bit > 7:\n",
    "        print('Transportation in progress......\\n','......\\n','Transportation Successful!No error occured.')\n",
    "        return hamming_c\n",
    "    #for the number between 1 and 7, the function will generate the error at that position\n",
    "    else:\n",
    "        print('Transportation in progress......\\n','......\\n','Transportation Failded. The flipped bit is at position:', flipped_bit )\n",
    "        #flip the bit\n",
    "        hamming_c[flipped_bit]=1-hamming_c[flipped_bit]\n",
    "        print('The error code is :', hamming_c[1:])\n",
    "        #reurn the error codes\n",
    "        return hamming_c"
   ]
  },
  {
   "cell_type": "code",
   "execution_count": 47,
   "id": "fe5862a6",
   "metadata": {},
   "outputs": [
    {
     "name": "stdout",
     "output_type": "stream",
     "text": [
      "Transportation in progress......\n",
      " ......\n",
      " Transportation Failded. The flipped bit is at position: 7\n",
      "The error code is : [1 0 1 0 1 0 0]\n"
     ]
    }
   ],
   "source": [
    "hamming_c=transportation(hamming_c)"
   ]
  },
  {
   "cell_type": "markdown",
   "id": "570b37b4",
   "metadata": {},
   "source": [
    "# Parity check \n"
   ]
  },
  {
   "cell_type": "code",
   "execution_count": 9,
   "id": "00981322",
   "metadata": {},
   "outputs": [],
   "source": [
    " def par_check(hamming_c):   \n",
    "    #define the checking matrix \n",
    "    h_matrix=([[1,0,0,0],[1,1,0,0],[1,0,1,0],[1,1,1,0],[1,0,0,1],[1,1,0,1],[1,0,1,1],[1,1,1,1]])\n",
    "    #print ('the parity check matrix is', h_matrix)\n",
    "    #use the hamming code to multiply the checking matrix to do the parity check  \n",
    "    vector_re=hamming_c.dot(h_matrix)\n",
    "    #tranform the format into the binary expression \n",
    "    parity_check=np.array([i%2 for i in vector_re])\n",
    "    print('the result of parity check is', parity_check[1:])        \n",
    "    return parity_check"
   ]
  },
  {
   "cell_type": "code",
   "execution_count": 10,
   "id": "7106bff0",
   "metadata": {},
   "outputs": [
    {
     "name": "stdout",
     "output_type": "stream",
     "text": [
      "the result of parity check is [1 0 0]\n"
     ]
    }
   ],
   "source": [
    "parity_check=par_check(hamming_c)"
   ]
  },
  {
   "cell_type": "markdown",
   "id": "866554a7",
   "metadata": {},
   "source": [
    "# Correction \n",
    "Still thinking how to determine that is not error, one error (with location), and potential 2 errors .\n",
    "And do the corretion on one error "
   ]
  },
  {
   "cell_type": "code",
   "execution_count": 11,
   "id": "b1a214e1",
   "metadata": {},
   "outputs": [],
   "source": [
    "#define the correction code \n",
    "def correction(hamming_c, parity_check):\n",
    "    #identify the error position \n",
    "    error_position=parity_check[1]+parity_check[2]*2+parity_check[3]*4\n",
    "    #detect the whether the error occurred\n",
    "    if error_position !=0 and parity_check[0]==0:\n",
    "            print('There might be more than an error.')\n",
    "            return 'There might be more than an errors.'\n",
    "    elif error_position !=0:\n",
    "        #correct the error\n",
    "        hamming_c[error_position]=1-hamming_c[error_position]\n",
    "        print('The error is at position', error_position)\n",
    "        print ('The original code is:', hamming_c[1:])\n",
    "    else: \n",
    "        print ('No error occurred during the transpotation.')\n",
    "    return hamming_c"
   ]
  },
  {
   "cell_type": "code",
   "execution_count": 12,
   "id": "1470f939",
   "metadata": {},
   "outputs": [
    {
     "name": "stdout",
     "output_type": "stream",
     "text": [
      "There might be more than an error.\n"
     ]
    },
    {
     "data": {
      "text/plain": [
       "'There might be more than an errors.'"
      ]
     },
     "execution_count": 12,
     "metadata": {},
     "output_type": "execute_result"
    }
   ],
   "source": [
    "hamming_c=correction(hamming_c, parity_check)\n",
    "hamming_c"
   ]
  },
  {
   "cell_type": "markdown",
   "id": "0eaf2fd7",
   "metadata": {},
   "source": [
    "# Decode"
   ]
  },
  {
   "cell_type": "code",
   "execution_count": 13,
   "id": "d047a056",
   "metadata": {},
   "outputs": [],
   "source": [
    "def decode(hamming_c):\n",
    "    if type(hamming_c) != str:\n",
    "        # define the decode matrix \n",
    "        r_matrix=np.array([[0,0,0,0],[0,0,0,0],[0,0,0,0],[1,0,0,0],[0,0,0,0],[0,1,0,0],[0,0,1,0],[0,0,0,1]])\n",
    "        #print('the decode matrix is', r_matrix)\n",
    "        #use the encode hamming matrix mutiply with the decode matrix to get the original matrix\n",
    "        hamming_re=hamming_c.dot(r_matrix)\n",
    "        print(hamming_re)\n",
    "        code_bit_re=np.array([i%2 for i in hamming_re])\n",
    "        print('the original code bits are', code_bit_re)\n",
    "        return code_bit_re\n",
    "    else:\n",
    "        print('There are more than an error occurred during the transportation.\\n Unable to decode.')\n",
    "        return 'There are more than an error occurred during the transportation.\\n Unable to decode.'"
   ]
  },
  {
   "cell_type": "code",
   "execution_count": 14,
   "id": "a339ae8e",
   "metadata": {},
   "outputs": [
    {
     "name": "stdout",
     "output_type": "stream",
     "text": [
      "There are more than an error occurred during the transportation.\n",
      " Unable to decode.\n"
     ]
    }
   ],
   "source": [
    "code_bit_re=decode(hamming_c)"
   ]
  },
  {
   "cell_type": "markdown",
   "id": "60935082",
   "metadata": {},
   "source": [
    "# Test session 1\n",
    "Here we will test the hamming code encoder and decoder without the error ocurred during the transportaion\n"
   ]
  },
  {
   "cell_type": "code",
   "execution_count": 15,
   "id": "cd444f6d",
   "metadata": {},
   "outputs": [
    {
     "ename": "ValueError",
     "evalue": "Invaild input:please input a 4-digit code.",
     "output_type": "error",
     "traceback": [
      "\u001b[1;31m---------------------------------------------------------------------------\u001b[0m",
      "\u001b[1;31mValueError\u001b[0m                                Traceback (most recent call last)",
      "Input \u001b[1;32mIn [15]\u001b[0m, in \u001b[0;36m<cell line: 2>\u001b[1;34m()\u001b[0m\n\u001b[0;32m      1\u001b[0m \u001b[38;5;66;03m#test_1 - invaild input (3 digit input)\u001b[39;00m\n\u001b[1;32m----> 2\u001b[0m vector_c\u001b[38;5;241m=\u001b[39m\u001b[43mvector_gen\u001b[49m\u001b[43m(\u001b[49m\u001b[38;5;124;43m'\u001b[39;49m\u001b[38;5;124;43m111\u001b[39;49m\u001b[38;5;124;43m'\u001b[39;49m\u001b[43m)\u001b[49m\n\u001b[0;32m      3\u001b[0m \u001b[38;5;28mprint\u001b[39m(vector_c)\n",
      "Input \u001b[1;32mIn [2]\u001b[0m, in \u001b[0;36mvector_gen\u001b[1;34m(code_bit)\u001b[0m\n\u001b[0;32m      4\u001b[0m \u001b[38;5;28;01mdef\u001b[39;00m \u001b[38;5;21mvector_gen\u001b[39m(code_bit):\n\u001b[0;32m      5\u001b[0m     \u001b[38;5;66;03m#check whether the input is a 4-digit code\u001b[39;00m\n\u001b[0;32m      6\u001b[0m     \u001b[38;5;28;01mif\u001b[39;00m \u001b[38;5;28mlen\u001b[39m(code_bit) \u001b[38;5;241m!=\u001b[39m \u001b[38;5;241m4\u001b[39m:\n\u001b[1;32m----> 7\u001b[0m         \u001b[38;5;28;01mraise\u001b[39;00m \u001b[38;5;167;01mValueError\u001b[39;00m(\u001b[38;5;124m'\u001b[39m\u001b[38;5;124mInvaild input:please input a 4-digit code.\u001b[39m\u001b[38;5;124m'\u001b[39m)\n\u001b[0;32m      8\u001b[0m     \u001b[38;5;66;03m#check whether code bits are binary \u001b[39;00m\n\u001b[0;32m      9\u001b[0m     \u001b[38;5;28;01melif\u001b[39;00m (code_bit\u001b[38;5;241m.\u001b[39mcount(\u001b[38;5;124m'\u001b[39m\u001b[38;5;124m0\u001b[39m\u001b[38;5;124m'\u001b[39m)\u001b[38;5;241m+\u001b[39mcode_bit\u001b[38;5;241m.\u001b[39mcount(\u001b[38;5;124m'\u001b[39m\u001b[38;5;124m1\u001b[39m\u001b[38;5;124m'\u001b[39m)) \u001b[38;5;241m!=\u001b[39m \u001b[38;5;241m4\u001b[39m:\n",
      "\u001b[1;31mValueError\u001b[0m: Invaild input:please input a 4-digit code."
     ]
    }
   ],
   "source": [
    "#test_1 - invaild input (3 digit input)\n",
    "vector_c=vector_gen('111')\n",
    "print(vector_c)\n"
   ]
  },
  {
   "cell_type": "code",
   "execution_count": 16,
   "id": "3afe4a6b",
   "metadata": {},
   "outputs": [
    {
     "ename": "ValueError",
     "evalue": "Invaild input: please input a binary code.",
     "output_type": "error",
     "traceback": [
      "\u001b[1;31m---------------------------------------------------------------------------\u001b[0m",
      "\u001b[1;31mValueError\u001b[0m                                Traceback (most recent call last)",
      "Input \u001b[1;32mIn [16]\u001b[0m, in \u001b[0;36m<cell line: 2>\u001b[1;34m()\u001b[0m\n\u001b[0;32m      1\u001b[0m \u001b[38;5;66;03m#test_2- invaild input(non binary input)\u001b[39;00m\n\u001b[1;32m----> 2\u001b[0m vector_c\u001b[38;5;241m=\u001b[39m\u001b[43mvector_gen\u001b[49m\u001b[43m(\u001b[49m\u001b[38;5;124;43m'\u001b[39;49m\u001b[38;5;124;43m1333\u001b[39;49m\u001b[38;5;124;43m'\u001b[39;49m\u001b[43m)\u001b[49m\n\u001b[0;32m      3\u001b[0m \u001b[38;5;28mprint\u001b[39m(vector_c)\n",
      "Input \u001b[1;32mIn [2]\u001b[0m, in \u001b[0;36mvector_gen\u001b[1;34m(code_bit)\u001b[0m\n\u001b[0;32m      8\u001b[0m \u001b[38;5;66;03m#check whether code bits are binary \u001b[39;00m\n\u001b[0;32m      9\u001b[0m \u001b[38;5;28;01melif\u001b[39;00m (code_bit\u001b[38;5;241m.\u001b[39mcount(\u001b[38;5;124m'\u001b[39m\u001b[38;5;124m0\u001b[39m\u001b[38;5;124m'\u001b[39m)\u001b[38;5;241m+\u001b[39mcode_bit\u001b[38;5;241m.\u001b[39mcount(\u001b[38;5;124m'\u001b[39m\u001b[38;5;124m1\u001b[39m\u001b[38;5;124m'\u001b[39m)) \u001b[38;5;241m!=\u001b[39m \u001b[38;5;241m4\u001b[39m:\n\u001b[1;32m---> 10\u001b[0m     \u001b[38;5;28;01mraise\u001b[39;00m \u001b[38;5;167;01mValueError\u001b[39;00m(\u001b[38;5;124m'\u001b[39m\u001b[38;5;124mInvaild input: please input a binary code.\u001b[39m\u001b[38;5;124m'\u001b[39m)\n\u001b[0;32m     11\u001b[0m \u001b[38;5;66;03m#change the format of input into vector\u001b[39;00m\n\u001b[0;32m     12\u001b[0m vector_c\u001b[38;5;241m=\u001b[39mnp\u001b[38;5;241m.\u001b[39marray([\u001b[38;5;28mint\u001b[39m(i) \u001b[38;5;28;01mfor\u001b[39;00m i \u001b[38;5;129;01min\u001b[39;00m code_bit])\n",
      "\u001b[1;31mValueError\u001b[0m: Invaild input: please input a binary code."
     ]
    }
   ],
   "source": [
    "#test_2- invaild input(non binary input)\n",
    "vector_c=vector_gen('1333')\n",
    "print(vector_c)"
   ]
  },
  {
   "cell_type": "code",
   "execution_count": 18,
   "id": "47a574dc",
   "metadata": {},
   "outputs": [
    {
     "name": "stdout",
     "output_type": "stream",
     "text": [
      "The input code bits are: [0 0 0 0]\n",
      "the hamming code is [0 0 0 0 0 0 0]\n",
      "the parity bits are [0 0 0]\n",
      "the overall parity bit is 0\n",
      "the result of parity check is [0 0 0]\n",
      "No error occurred during the transpotation.\n",
      "[0 0 0 0]\n",
      "the original code bits are [0 0 0 0]\n"
     ]
    }
   ],
   "source": [
    "#test_3-vaild input (0000)\n",
    "test_3=vector_gen('0000')\n",
    "test_3=encode(test_3)\n",
    "par_result=par_check(test_3)\n",
    "test_3=correction(test_3, par_result)\n",
    "test_3=decode(test_3)"
   ]
  },
  {
   "cell_type": "code",
   "execution_count": 19,
   "id": "f82c4f0d",
   "metadata": {},
   "outputs": [
    {
     "name": "stdout",
     "output_type": "stream",
     "text": [
      "The input code bits are: [1 1 1 1]\n",
      "the hamming code is [1 1 1 1 1 1 1]\n",
      "the parity bits are [1 1 1]\n",
      "the overall parity bit is 1\n",
      "the result of parity check is [0 0 0]\n",
      "No error occurred during the transpotation.\n",
      "[1 1 1 1]\n",
      "the original code bits are [1 1 1 1]\n"
     ]
    }
   ],
   "source": [
    "#test_4- vaild input (1111)\n",
    "test_4=vector_gen('1111')\n",
    "test_4=encode(test_4)\n",
    "par_result=par_check(test_4)\n",
    "test_4=correction(test_4, par_result)\n",
    "test4=decode(test_4)"
   ]
  },
  {
   "cell_type": "code",
   "execution_count": 20,
   "id": "33713942",
   "metadata": {},
   "outputs": [
    {
     "name": "stdout",
     "output_type": "stream",
     "text": [
      "The input code bits are: [1 1 0 1]\n",
      "the hamming code is [1 0 1 0 1 0 1]\n",
      "the parity bits are [1 0 0]\n",
      "the overall parity bit is 0\n",
      "the result of parity check is [0 0 0]\n",
      "No error occurred during the transpotation.\n",
      "[1 1 0 1]\n",
      "the original code bits are [1 1 0 1]\n"
     ]
    }
   ],
   "source": [
    "#test_5- vaild input (1101)\n",
    "test_5=vector_gen('1101')\n",
    "test_5=encode(test_5)\n",
    "par_result=par_check(test_5)\n",
    "test_5=correction(test_5, par_result)\n",
    "test_5=decode(test_5)"
   ]
  },
  {
   "cell_type": "markdown",
   "id": "746e5dce",
   "metadata": {},
   "source": [
    "# Test Session 2\n",
    "This session will test the hamming code encoder, decoder, and correction function with the error occurred \n"
   ]
  },
  {
   "cell_type": "code",
   "execution_count": 21,
   "id": "ec0282c7",
   "metadata": {},
   "outputs": [
    {
     "name": "stdout",
     "output_type": "stream",
     "text": [
      "The input code bits are: [1 1 1 1]\n",
      "the hamming code is [1 1 1 1 1 1 1]\n",
      "the parity bits are [1 1 1]\n",
      "the overall parity bit is 1\n",
      "the position of flipped bits: (3,) ; Error code: [1 1 0 1 1 1 1]\n",
      "the result of parity check is [1 1 0]\n",
      "The error is at position 3\n",
      "The original code is: [1 1 1 1 1 1 1]\n",
      "[1 1 1 1]\n",
      "the original code bits are [1 1 1 1]\n"
     ]
    }
   ],
   "source": [
    "#test_1- vaild input (1111) with 1 error occurred at position 3\n",
    "test1=vector_gen('1111')\n",
    "test1=encode(test1)\n",
    "test1=bit_flip(test1,3)\n",
    "par_result=par_check(test1)\n",
    "test1=correction(test1, par_result)\n",
    "test1=decode(test1)"
   ]
  },
  {
   "cell_type": "code",
   "execution_count": 22,
   "id": "6c093e91",
   "metadata": {},
   "outputs": [
    {
     "name": "stdout",
     "output_type": "stream",
     "text": [
      "The input code bits are: [0 0 0 0]\n",
      "the hamming code is [0 0 0 0 0 0 0]\n",
      "the parity bits are [0 0 0]\n",
      "the overall parity bit is 0\n",
      "the position of flipped bits: (1,) ; Error code: [1 0 0 0 0 0 0]\n",
      "the result of parity check is [1 0 0]\n",
      "The error is at position 1\n",
      "The original code is: [0 0 0 0 0 0 0]\n",
      "[0 0 0 0]\n",
      "the original code bits are [0 0 0 0]\n"
     ]
    }
   ],
   "source": [
    "#test_2- vaild input (0000) with 1 error occurred at position 1\n",
    "test2=vector_gen('0000')\n",
    "test2=encode(test2)\n",
    "test2=bit_flip(test2,1)\n",
    "par_result=par_check(test2)\n",
    "test2=correction(test2, par_result)\n",
    "test2=decode(test2)"
   ]
  },
  {
   "cell_type": "code",
   "execution_count": 23,
   "id": "2e4a2400",
   "metadata": {},
   "outputs": [
    {
     "name": "stdout",
     "output_type": "stream",
     "text": [
      "The input code bits are: [1 1 0 1]\n",
      "the hamming code is [1 0 1 0 1 0 1]\n",
      "the parity bits are [1 0 0]\n",
      "the overall parity bit is 0\n",
      "the position of flipped bits: (3, 4) ; Error code: [1 0 0 1 1 0 1]\n",
      "the result of parity check is [1 1 1]\n",
      "There might be more than an error.\n",
      "There are more than an error occurred during the transportation.\n",
      " Unable to decode.\n"
     ]
    }
   ],
   "source": [
    "#test_3- vaild input (1101) with 2 error occurred in position3,4 \n",
    "test3=vector_gen('1101')\n",
    "test3=encode(test3)\n",
    "test3=bit_flip(test3,3,4)\n",
    "par_result=par_check(test3)\n",
    "test3=correction(test3, par_result)\n",
    "test3=decode(test3)"
   ]
  },
  {
   "cell_type": "code",
   "execution_count": 24,
   "id": "256894fa",
   "metadata": {},
   "outputs": [
    {
     "name": "stdout",
     "output_type": "stream",
     "text": [
      "The input code bits are: [1 0 0 1]\n",
      "the hamming code is [0 0 1 1 0 0 1]\n",
      "the parity bits are [0 0 1]\n",
      "the overall parity bit is 1\n",
      "the position of flipped bits: (3, 4, 5) ; Error code: [0 0 0 0 1 0 1]\n",
      "the result of parity check is [0 1 0]\n",
      "The error is at position 2\n",
      "The original code is: [0 1 0 0 1 0 1]\n",
      "[0 1 0 1]\n",
      "the original code bits are [0 1 0 1]\n"
     ]
    }
   ],
   "source": [
    "#test_4- vaild input (1001) with 3 error occurred in position3,4,5 \n",
    "test4=vector_gen('1001')\n",
    "test4=encode(test4)\n",
    "test4=bit_flip(test4,3,4,5)\n",
    "par_result=par_check(test4)\n",
    "test4=correction(test4, par_result)\n",
    "test4=decode(test4)"
   ]
  },
  {
   "cell_type": "code",
   "execution_count": 25,
   "id": "f8024fc8",
   "metadata": {},
   "outputs": [
    {
     "name": "stdout",
     "output_type": "stream",
     "text": [
      "The input code bits are: [1 1 0 1]\n",
      "the hamming code is [1 0 1 0 1 0 1]\n",
      "the parity bits are [1 0 0]\n",
      "the overall parity bit is 0\n",
      "the position of flipped bits: (3, 5, 6, 7) ; Error code: [1 0 0 0 0 1 0]\n",
      "the result of parity check is [1 1 1]\n",
      "There might be more than an error.\n",
      "There are more than an error occurred during the transportation.\n",
      " Unable to decode.\n"
     ]
    }
   ],
   "source": [
    "#test_5- vaild input (1001) with 4 error occurred in position3,5,6,7\n",
    "test5=vector_gen('1101')\n",
    "test5=encode(test5)\n",
    "test5=bit_flip(test5,3,5,6,7)\n",
    "par_result=par_check(test5)\n",
    "test5=correction(test5, par_result)\n",
    "test5=decode(test5)"
   ]
  },
  {
   "cell_type": "markdown",
   "id": "479ebbc4",
   "metadata": {},
   "source": [
    "For the two error situtation, hamming code cannot locate the actual fliped code.Since the parity check only allow to place one fliped bit, the two error will influence each other in the parity check.\n",
    "Therefore, in the end, we will get another position to change, although it can still make the parity check back to 0, but it will distort the original massage.\n",
    "By adding the overall parity bit we can detect the even number errors, but for the 3 error transportation, it cannot detect.\n"
   ]
  },
  {
   "cell_type": "markdown",
   "id": "575247c1",
   "metadata": {},
   "source": [
    "# Simulation Program \n",
    "In this program, user can enter the 4-digit binary code. Then the program will simulate the code transportation scenario.\n",
    "In the setting, the transportation sucessful rate is 50%, which means it has 50% possibility to generate the error.\n",
    "Then, the program will do the error detection and automated correction. Finally, the program will decode the hamming code and recover it to the original massage."
   ]
  },
  {
   "cell_type": "code",
   "execution_count": 26,
   "id": "3532124b",
   "metadata": {},
   "outputs": [],
   "source": [
    "def hamming_program(code_bit):\n",
    "    vector_c=vector_gen(code_bit)\n",
    "    hamming_c=encode(vector_c)\n",
    "    hamming_c=transportation(hamming_c)    \n",
    "    parity_check=par_check(hamming_c)\n",
    "    hamming_c=correction(hamming_c, parity_check)\n",
    "    code_bit_re=decode(hamming_c)\n",
    "    return hamming_c"
   ]
  },
  {
   "cell_type": "code",
   "execution_count": 27,
   "id": "58c1ea8a",
   "metadata": {},
   "outputs": [
    {
     "name": "stdout",
     "output_type": "stream",
     "text": [
      "Please input a 4 digit binary code:1111\n",
      "The input code bits are: [1 1 1 1]\n",
      "the hamming code is [1 1 1 1 1 1 1]\n",
      "the parity bits are [1 1 1]\n",
      "the overall parity bit is 1\n",
      "Transportation in progress......\n",
      " ......\n",
      " Transportation Failded. The flipped bit is at position: 1\n",
      "The error code is : [0 1 1 1 1 1 1]\n",
      "the result of parity check is [1 0 0]\n",
      "The error is at position 1\n",
      "The original code is: [1 1 1 1 1 1 1]\n",
      "[1 1 1 1]\n",
      "the original code bits are [1 1 1 1]\n"
     ]
    }
   ],
   "source": [
    "#test_1 - vaild input (4 digit input:1111)\n",
    "code_bit=input('Please input a 4 digit binary code:')\n",
    "test1=hamming_program(code_bit)"
   ]
  },
  {
   "cell_type": "code",
   "execution_count": 28,
   "id": "55a4f09d",
   "metadata": {},
   "outputs": [
    {
     "name": "stdout",
     "output_type": "stream",
     "text": [
      "Please input a 4 digit binary code:0000\n",
      "The input code bits are: [0 0 0 0]\n",
      "the hamming code is [0 0 0 0 0 0 0]\n",
      "the parity bits are [0 0 0]\n",
      "the overall parity bit is 0\n",
      "Transportation in progress......\n",
      " ......\n",
      " Transportation Failded. The flipped bit is at position: 6\n",
      "The error code is : [0 0 0 0 0 1 0]\n",
      "the result of parity check is [0 1 1]\n",
      "The error is at position 6\n",
      "The original code is: [0 0 0 0 0 0 0]\n",
      "[0 0 0 0]\n",
      "the original code bits are [0 0 0 0]\n"
     ]
    }
   ],
   "source": [
    "#test_2 - vaild input (4 digit input:0000)\n",
    "code_bit=input('Please input a 4 digit binary code:')\n",
    "test2=hamming_program(code_bit)"
   ]
  },
  {
   "cell_type": "code",
   "execution_count": 29,
   "id": "17a9f8df",
   "metadata": {},
   "outputs": [
    {
     "name": "stdout",
     "output_type": "stream",
     "text": [
      "Please input a 4 digit binary code:1101\n",
      "The input code bits are: [1 1 0 1]\n",
      "the hamming code is [1 0 1 0 1 0 1]\n",
      "the parity bits are [1 0 0]\n",
      "the overall parity bit is 0\n",
      "Transportation in progress......\n",
      " ......\n",
      " Transportation Successful!No error occured.\n",
      "the result of parity check is [0 0 0]\n",
      "No error occurred during the transpotation.\n",
      "[1 1 0 1]\n",
      "the original code bits are [1 1 0 1]\n"
     ]
    }
   ],
   "source": [
    "#test_3 - vaild input (4 digit input:1101)\n",
    "code_bit=input('Please input a 4 digit binary code:')\n",
    "test3=hamming_program(code_bit)"
   ]
  },
  {
   "cell_type": "code",
   "execution_count": 30,
   "id": "bf748e4b",
   "metadata": {},
   "outputs": [
    {
     "name": "stdout",
     "output_type": "stream",
     "text": [
      "Please input a 4 digit binary code:hkjh\n"
     ]
    },
    {
     "ename": "ValueError",
     "evalue": "Invaild input: please input a binary code.",
     "output_type": "error",
     "traceback": [
      "\u001b[1;31m---------------------------------------------------------------------------\u001b[0m",
      "\u001b[1;31mValueError\u001b[0m                                Traceback (most recent call last)",
      "Input \u001b[1;32mIn [30]\u001b[0m, in \u001b[0;36m<cell line: 3>\u001b[1;34m()\u001b[0m\n\u001b[0;32m      1\u001b[0m \u001b[38;5;66;03m#test 4-vaild input (4 digit input)\u001b[39;00m\n\u001b[0;32m      2\u001b[0m code_bit\u001b[38;5;241m=\u001b[39m\u001b[38;5;28minput\u001b[39m(\u001b[38;5;124m'\u001b[39m\u001b[38;5;124mPlease input a 4 digit binary code:\u001b[39m\u001b[38;5;124m'\u001b[39m)\n\u001b[1;32m----> 3\u001b[0m test4\u001b[38;5;241m=\u001b[39m\u001b[43mhamming_program\u001b[49m\u001b[43m(\u001b[49m\u001b[43mcode_bit\u001b[49m\u001b[43m)\u001b[49m\n",
      "Input \u001b[1;32mIn [26]\u001b[0m, in \u001b[0;36mhamming_program\u001b[1;34m(code_bit)\u001b[0m\n\u001b[0;32m      1\u001b[0m \u001b[38;5;28;01mdef\u001b[39;00m \u001b[38;5;21mhamming_program\u001b[39m(code_bit):\n\u001b[1;32m----> 2\u001b[0m     vector_c\u001b[38;5;241m=\u001b[39m\u001b[43mvector_gen\u001b[49m\u001b[43m(\u001b[49m\u001b[43mcode_bit\u001b[49m\u001b[43m)\u001b[49m\n\u001b[0;32m      3\u001b[0m     hamming_c\u001b[38;5;241m=\u001b[39mencode(vector_c)\n\u001b[0;32m      4\u001b[0m     hamming_c\u001b[38;5;241m=\u001b[39mtransportation(hamming_c)    \n",
      "Input \u001b[1;32mIn [2]\u001b[0m, in \u001b[0;36mvector_gen\u001b[1;34m(code_bit)\u001b[0m\n\u001b[0;32m      8\u001b[0m \u001b[38;5;66;03m#check whether code bits are binary \u001b[39;00m\n\u001b[0;32m      9\u001b[0m \u001b[38;5;28;01melif\u001b[39;00m (code_bit\u001b[38;5;241m.\u001b[39mcount(\u001b[38;5;124m'\u001b[39m\u001b[38;5;124m0\u001b[39m\u001b[38;5;124m'\u001b[39m)\u001b[38;5;241m+\u001b[39mcode_bit\u001b[38;5;241m.\u001b[39mcount(\u001b[38;5;124m'\u001b[39m\u001b[38;5;124m1\u001b[39m\u001b[38;5;124m'\u001b[39m)) \u001b[38;5;241m!=\u001b[39m \u001b[38;5;241m4\u001b[39m:\n\u001b[1;32m---> 10\u001b[0m     \u001b[38;5;28;01mraise\u001b[39;00m \u001b[38;5;167;01mValueError\u001b[39;00m(\u001b[38;5;124m'\u001b[39m\u001b[38;5;124mInvaild input: please input a binary code.\u001b[39m\u001b[38;5;124m'\u001b[39m)\n\u001b[0;32m     11\u001b[0m \u001b[38;5;66;03m#change the format of input into vector\u001b[39;00m\n\u001b[0;32m     12\u001b[0m vector_c\u001b[38;5;241m=\u001b[39mnp\u001b[38;5;241m.\u001b[39marray([\u001b[38;5;28mint\u001b[39m(i) \u001b[38;5;28;01mfor\u001b[39;00m i \u001b[38;5;129;01min\u001b[39;00m code_bit])\n",
      "\u001b[1;31mValueError\u001b[0m: Invaild input: please input a binary code."
     ]
    }
   ],
   "source": [
    "#test 4-vaild input (4 digit input)\n",
    "code_bit=input('Please input a 4 digit binary code:')\n",
    "test4=hamming_program(code_bit)"
   ]
  },
  {
   "cell_type": "code",
   "execution_count": null,
   "id": "f416fc07",
   "metadata": {},
   "outputs": [],
   "source": []
  }
 ],
 "metadata": {
  "kernelspec": {
   "display_name": "Python 3 (ipykernel)",
   "language": "python",
   "name": "python3"
  },
  "language_info": {
   "codemirror_mode": {
    "name": "ipython",
    "version": 3
   },
   "file_extension": ".py",
   "mimetype": "text/x-python",
   "name": "python",
   "nbconvert_exporter": "python",
   "pygments_lexer": "ipython3",
   "version": "3.9.12"
  }
 },
 "nbformat": 4,
 "nbformat_minor": 5
}
