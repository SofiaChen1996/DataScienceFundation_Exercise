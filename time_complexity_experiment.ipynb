{
 "cells": [
  {
   "cell_type": "code",
   "execution_count": 1,
   "id": "ccea2fe8",
   "metadata": {},
   "outputs": [
    {
     "name": "stdout",
     "output_type": "stream",
     "text": [
      "Collecting big-O-calculator\n",
      "  Downloading big_O_calculator-0.0.9.8.4-py3-none-any.whl (21 kB)\n",
      "Collecting win10toast\n",
      "  Downloading win10toast-0.9-py2.py3-none-any.whl (21 kB)\n",
      "Collecting pypiwin32\n",
      "  Downloading pypiwin32-223-py3-none-any.whl (1.7 kB)\n",
      "Requirement already satisfied: setuptools in d:\\advocado\\lib\\site-packages (from win10toast->big-O-calculator) (61.2.0)\n",
      "Requirement already satisfied: pywin32>=223 in d:\\advocado\\lib\\site-packages (from pypiwin32->win10toast->big-O-calculator) (302)\n",
      "Installing collected packages: pypiwin32, win10toast, big-O-calculator\n",
      "Successfully installed big-O-calculator-0.0.9.8.4 pypiwin32-223 win10toast-0.9\n",
      "Note: you may need to restart the kernel to use updated packages.\n"
     ]
    }
   ],
   "source": [
    "pip install big-O-calculator"
   ]
  },
  {
   "cell_type": "code",
   "execution_count": 11,
   "id": "90fe9d81",
   "metadata": {},
   "outputs": [],
   "source": [
    "def Fibonacci(n):\n",
    "   \n",
    "    # Check if input is valid (>=1) \n",
    "    if n < 1: #1 operation\n",
    "        print('invalid input')\n",
    "     # The end of the Fibonacci sequence in the program is 2-1-1\n",
    "    elif n == 1 or n == 2: #1 operation \n",
    "        return 1 #1 operation\n",
    " \n",
    "    else: #1 operation\n",
    "        return Fibonacci(n-1) + Fibonacci(n-2) #1 operation \n"
   ]
  },
  {
   "cell_type": "code",
   "execution_count": 20,
   "id": "f5e64957",
   "metadata": {},
   "outputs": [],
   "source": [
    "from bigO import BigO as bo\n",
    "\n"
   ]
  },
  {
   "cell_type": "code",
   "execution_count": 6,
   "id": "4b0e1ea6",
   "metadata": {},
   "outputs": [],
   "source": [
    "def fibonacci2(n):\n",
    "     # Check if input is valid (>=1) \n",
    "    if n < 1: #1 operation\n",
    "        print('invalid input')\n",
    "     # The end of the Fibonacci sequence in the program is 2-1-1\n",
    "    #elif n == 1 or n == 2: #1 operation \n",
    "        #return 1 #1 operation\n",
    "    else: #1 operation   \n",
    "        fiblist=[0 for i in range(0, n+1)] # 1 operation \n",
    "        fiblist[0]=0 #1 operation \n",
    "        fiblist[1]=1 #1 operation \n",
    "        for i in range (2,n+1): #1 operation (loop)\n",
    "            fiblist[i]=fiblist[i-1]+fiblist[i-2] #1 operation (loop) \n",
    "        return fiblist[n] #1 operation \n",
    "    \n"
   ]
  },
  {
   "cell_type": "code",
   "execution_count": 31,
   "id": "fa914f0e",
   "metadata": {},
   "outputs": [
    {
     "data": {
      "text/plain": [
       "2"
      ]
     },
     "execution_count": 31,
     "metadata": {},
     "output_type": "execute_result"
    }
   ],
   "source": [
    "fibonacci2(3)\n"
   ]
  },
  {
   "cell_type": "code",
   "execution_count": 27,
   "id": "bb3a66e3",
   "metadata": {},
   "outputs": [
    {
     "data": {
      "text/plain": [
       "2"
      ]
     },
     "execution_count": 27,
     "metadata": {},
     "output_type": "execute_result"
    }
   ],
   "source": [
    "Fibonacci(3)"
   ]
  },
  {
   "cell_type": "code",
   "execution_count": 21,
   "id": "f87e3efb",
   "metadata": {},
   "outputs": [
    {
     "name": "stdout",
     "output_type": "stream",
     "text": [
      "Running fibonacci2(tests)\n"
     ]
    },
    {
     "ename": "TypeError",
     "evalue": "'<' not supported between instances of 'list' and 'int'",
     "output_type": "error",
     "traceback": [
      "\u001b[1;31m---------------------------------------------------------------------------\u001b[0m",
      "\u001b[1;31mTypeError\u001b[0m                                 Traceback (most recent call last)",
      "Input \u001b[1;32mIn [21]\u001b[0m, in \u001b[0;36m<cell line: 2>\u001b[1;34m()\u001b[0m\n\u001b[0;32m      1\u001b[0m lib\u001b[38;5;241m=\u001b[39mbo()\n\u001b[1;32m----> 2\u001b[0m \u001b[43mlib\u001b[49m\u001b[38;5;241;43m.\u001b[39;49m\u001b[43mtest_all\u001b[49m\u001b[43m(\u001b[49m\u001b[43mfibonacci2\u001b[49m\u001b[43m)\u001b[49m\n",
      "File \u001b[1;32mD:\\advocado\\lib\\site-packages\\bigO\\BigO.py:472\u001b[0m, in \u001b[0;36mBigO.test_all\u001b[1;34m(self, function)\u001b[0m\n\u001b[0;32m    470\u001b[0m \u001b[38;5;28mprint\u001b[39m(\u001b[38;5;124mf\u001b[39m\u001b[38;5;124m\"\u001b[39m\u001b[38;5;124mRunning \u001b[39m\u001b[38;5;132;01m{\u001b[39;00mfunction\u001b[38;5;241m.\u001b[39m\u001b[38;5;18m__name__\u001b[39m\u001b[38;5;132;01m}\u001b[39;00m\u001b[38;5;124m(tests)\u001b[39m\u001b[38;5;124m\"\u001b[39m)\n\u001b[0;32m    471\u001b[0m \u001b[38;5;28;01mfor\u001b[39;00m test \u001b[38;5;129;01min\u001b[39;00m result:\n\u001b[1;32m--> 472\u001b[0m     cplx \u001b[38;5;241m=\u001b[39m \u001b[38;5;28;43mself\u001b[39;49m\u001b[38;5;241;43m.\u001b[39;49m\u001b[43mtest\u001b[49m\u001b[43m(\u001b[49m\u001b[43mfunction\u001b[49m\u001b[43m,\u001b[49m\u001b[43m \u001b[49m\u001b[43mtest\u001b[49m\u001b[43m,\u001b[49m\u001b[43m \u001b[49m\u001b[43mprtResult\u001b[49m\u001b[38;5;241;43m=\u001b[39;49m\u001b[38;5;28;43;01mFalse\u001b[39;49;00m\u001b[43m)\u001b[49m\n\u001b[0;32m    473\u001b[0m     result[test] \u001b[38;5;241m=\u001b[39m cplx\n\u001b[0;32m    474\u001b[0m     cplxInt \u001b[38;5;241m=\u001b[39m \u001b[38;5;28mself\u001b[39m\u001b[38;5;241m.\u001b[39m_complexity2int(cplx)\n",
      "File \u001b[1;32mD:\\advocado\\lib\\site-packages\\bigO\\BigO.py:403\u001b[0m, in \u001b[0;36mBigO.test\u001b[1;34m(self, functionName, array, limit, prtResult)\u001b[0m\n\u001b[0;32m    401\u001b[0m \u001b[38;5;28;01mwhile\u001b[39;00m currentIter \u001b[38;5;241m<\u001b[39m maxIter:\n\u001b[0;32m    402\u001b[0m     start \u001b[38;5;241m=\u001b[39m default_timer()\n\u001b[1;32m--> 403\u001b[0m     result \u001b[38;5;241m=\u001b[39m \u001b[43mfunctionName\u001b[49m\u001b[43m(\u001b[49m\u001b[43mnums\u001b[49m\u001b[43m)\u001b[49m\n\u001b[0;32m    404\u001b[0m     end \u001b[38;5;241m=\u001b[39m default_timer()\n\u001b[0;32m    405\u001b[0m     timeTaken \u001b[38;5;241m+\u001b[39m\u001b[38;5;241m=\u001b[39m end \u001b[38;5;241m-\u001b[39m start\n",
      "Input \u001b[1;32mIn [6]\u001b[0m, in \u001b[0;36mfibonacci2\u001b[1;34m(n)\u001b[0m\n\u001b[0;32m      1\u001b[0m \u001b[38;5;28;01mdef\u001b[39;00m \u001b[38;5;21mfibonacci2\u001b[39m(n):\n\u001b[0;32m      2\u001b[0m      \u001b[38;5;66;03m# Check if input is valid (>=1) \u001b[39;00m\n\u001b[1;32m----> 3\u001b[0m     \u001b[38;5;28;01mif\u001b[39;00m \u001b[43mn\u001b[49m\u001b[43m \u001b[49m\u001b[38;5;241;43m<\u001b[39;49m\u001b[43m \u001b[49m\u001b[38;5;241;43m1\u001b[39;49m: \u001b[38;5;66;03m#1 operation\u001b[39;00m\n\u001b[0;32m      4\u001b[0m         \u001b[38;5;28mprint\u001b[39m(\u001b[38;5;124m'\u001b[39m\u001b[38;5;124minvalid input\u001b[39m\u001b[38;5;124m'\u001b[39m)\n\u001b[0;32m      5\u001b[0m      \u001b[38;5;66;03m# The end of the Fibonacci sequence in the program is 2-1-1\u001b[39;00m\n",
      "\u001b[1;31mTypeError\u001b[0m: '<' not supported between instances of 'list' and 'int'"
     ]
    }
   ],
   "source": [
    "lib=bo()\n",
    "lib.test_all(fibonacci2)"
   ]
  },
  {
   "cell_type": "code",
   "execution_count": null,
   "id": "0acb9eb5",
   "metadata": {},
   "outputs": [],
   "source": []
  }
 ],
 "metadata": {
  "kernelspec": {
   "display_name": "Python 3 (ipykernel)",
   "language": "python",
   "name": "python3"
  },
  "language_info": {
   "codemirror_mode": {
    "name": "ipython",
    "version": 3
   },
   "file_extension": ".py",
   "mimetype": "text/x-python",
   "name": "python",
   "nbconvert_exporter": "python",
   "pygments_lexer": "ipython3",
   "version": "3.9.12"
  }
 },
 "nbformat": 4,
 "nbformat_minor": 5
}
